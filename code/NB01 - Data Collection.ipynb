{
 "cells": [
  {
   "cell_type": "markdown",
   "metadata": {},
   "source": [
    "# Data Collection\n",
    "\n",
    "This notebook outlines the process of collecting playlist data from the Spotify API, focusing on playlists associated with specific times of the day: \"morning,\" \"afternoon,\" \"evening,\" and \"night.\" The contents of these playlists often reflect mood, activity, or genre preferences tied to these time periods.\n",
    "\n",
    "The objective of this data collection is to compile information about playlists that fit these time periods, extracting key details such as playlist ID, number of followers, tracks, track genres, and additional metadata. The approach includes various filters and requirements to ensure the data is relevant and accurate."
   ]
  },
  {
   "cell_type": "markdown",
   "metadata": {},
   "source": [
    "## 1. Preparing the Environment\n",
    "\n",
    "- **Libraries:** Core libraries like `os`, `json`, and `time` are loaded, along with `dotenv` for managing API credentials securely.\n",
    "- **Custom Functions:** Functions from `Functions.py` are imported to handle Spotify API interactions and data processing.\n",
    "- **Directories:** The `data/raw/` folder is set up to store raw JSON outputs from the API.\n",
    "- **Credentials:** Spotify API credentials are loaded securely from a `.env` file.\n",
    "\n",
    "These steps ensure the environment is ready for efficient data collection."
   ]
  },
  {
   "cell_type": "code",
   "execution_count": 1,
   "metadata": {},
   "outputs": [],
   "source": [
    "# library loading\n",
    "import os\n",
    "import json\n",
    "import time\n",
    "from dotenv import load_dotenv\n",
    "\n",
    "# custom function loading\n",
    "from Functions import *"
   ]
  },
  {
   "cell_type": "code",
   "execution_count": 2,
   "metadata": {},
   "outputs": [],
   "source": [
    "raw_data_dir = \"data/raw/\"\n",
    "os.makedirs(raw_data_dir, exist_ok=True)"
   ]
  },
  {
   "cell_type": "code",
   "execution_count": 3,
   "metadata": {},
   "outputs": [],
   "source": [
    "load_dotenv()\n",
    "\n",
    "SPOTIFY_CLIENT_ID = os.getenv(\"SPOTIFY_CLIENT_ID\")\n",
    "SPOTIFY_CLIENT_SECRET = os.getenv(\"SPOTIFY_CLIENT_SECRET\")"
   ]
  },
  {
   "cell_type": "markdown",
   "metadata": {},
   "source": [
    "### Generating Spotify API Access Token\n",
    "\n",
    "To access the Spotify API, the `get_spotify_token` function from `Functions.py` is used. This function utilizes the Client ID and Client Secret stored in a secure `.env` file. The function generates an access token, and an exception is raised if the token generation fails. This token is essential for authenticating API requests throughout the data collection process."
   ]
  },
  {
   "cell_type": "code",
   "execution_count": 4,
   "metadata": {},
   "outputs": [
    {
     "name": "stdout",
     "output_type": "stream",
     "text": [
      "Access Token Generated\n"
     ]
    }
   ],
   "source": [
    "try:\n",
    "    token = get_spotify_token(SPOTIFY_CLIENT_ID, SPOTIFY_CLIENT_SECRET)\n",
    "    print(f\"Access Token Generated\")\n",
    "except Exception as e:\n",
    "    print(f\"Error fetching Spotify token: {e}\")"
   ]
  },
  {
   "cell_type": "markdown",
   "metadata": {},
   "source": [
    "### Defining Time Periods for Data Collection\n",
    "\n",
    "The next step is collecting playlist data categorized by four main time periods: **Morning**, **Afternoon**, **Evening**, and **Night**. These categories help capture playlists that are thematically aligned with specific times of the day, reflecting mood, activity, or genre preferences."
   ]
  },
  {
   "cell_type": "code",
   "execution_count": 5,
   "metadata": {},
   "outputs": [],
   "source": [
    "time_periods = [\"morning\", \"afternoon\", \"evening\", \"night\"]"
   ]
  },
  {
   "cell_type": "markdown",
   "metadata": {},
   "source": [
    "## 2. Data Collection\n",
    "- **Search Criteria:** Playlists must include the time period keyword in either the title or description.\n",
    "- **Inclusion Filters:**\n",
    "  - The playlist must be user-generated (not created by Spotify's algorithms).\n",
    "  - It must have at least 50 followers.\n",
    "  - It must contain a minimum of 10 tracks.\n",
    "  - It must have a valid playlist ID.\n",
    "  - Only the first 200 tracks of a playlist are considered, so as to not bias results too heavily based on the particularly long (outlier) playlists\n",
    "- **Data Extraction:** The collected data includes:\n",
    "  - Playlist ID\n",
    "  - Tracks and associated metadata\n",
    "  - Artist genres for each track\n",
    "  - Additional playlist details, such as follower count\n",
    "- **Output** The data is saved as individual JSON files for each playlist, named using the associated time period and playlist ID. These files serve as raw data for further analysis and visualization."
   ]
  },
  {
   "cell_type": "code",
   "execution_count": null,
   "metadata": {},
   "outputs": [
    {
     "name": "stdout",
     "output_type": "stream",
     "text": [
      "Collecting data for morning playlists...\n",
      "Filtered and Sorted Playlists:\n",
      "Café Music 2025 ☕ Chill Vibes -  Coffee Lounge  - Followers: 576112 - Tracks: 295\n",
      "Café Music 2024 ☕️ Coffee Shop Vibes for Good Morning!  - Followers: 233131 - Tracks: 381\n",
      "Sunday Chill  ☕ Morning Playlist :-) - Followers: 94687 - Tracks: 70\n",
      "Morning Chill 🥞 Relax Breakfast - Followers: 82610 - Tracks: 200\n",
      "productive work lofi 🍉 - Followers: 43286 - Tracks: 597\n",
      "Morning Vibes 2024 🌞 - Followers: 38932 - Tracks: 205\n",
      "Chill Morning 🥐☕ Breakfast Music 2024 - Followers: 28727 - Tracks: 258\n",
      "Good Morning Playlist || Best Day Ever 🌤  - Followers: 25229 - Tracks: 44\n",
      "Sunday Morning Vibes ⛅️ - Followers: 14999 - Tracks: 245\n",
      "Happy Chill Morning - Followers: 12804 - Tracks: 217\n",
      "it girl morning 🧖‍♀️🛁🌟 - Followers: 11715 - Tracks: 117\n",
      "happy morning vibes☀️🐥 - Followers: 6214 - Tracks: 327\n",
      "Morning Music (Breakfast / Wake-Up / Coffee) - Followers: 5524 - Tracks: 219\n",
      "Morning  - Followers: 429 - Tracks: 217\n",
      "Morning playlist - Followers: 88 - Tracks: 68\n",
      "Fetching details for playlist ID: 11nSleISOWGLboWVWPDuwB\n",
      "Fetching details for playlist ID: 324hnxmF6kDVi2gvZPEj2I\n",
      "Fetching details for playlist ID: 7eJQG4OIFTd5KsFua7IEBj\n",
      "Fetching details for playlist ID: 1mhzmY1ItlLIMfH6DRpLHM\n",
      "Fetching details for playlist ID: 3cnkhyqinMpD5O6f6qh5l4\n",
      "Fetching details for playlist ID: 2Jn9nUxpy79EN8PlbAGyFA\n",
      "Fetching details for playlist ID: 63sCiH22a44UxGge1gTuPi\n",
      "Fetching details for playlist ID: 5Onx9reBPUErAsLqFDcg4B\n",
      "Fetching details for playlist ID: 4SammBQx8lE5eS2zn1sPrT\n",
      "Fetching details for playlist ID: 776lHyujMSN49d2FFhrU2R\n",
      "Fetching details for playlist ID: 1ZeZrGeHBUY7eLxE5M5g3U\n",
      "Fetching details for playlist ID: 5CeldCJlHOLJPyWLsTDK2z\n",
      "Fetching details for playlist ID: 54pGFIM5fvQa6aBVHyOQpN\n",
      "Fetching details for playlist ID: 1eT4YulrSRrWwNM07uCx9o\n",
      "Fetching details for playlist ID: 4NqEoB53L6qUyHLkQdurxe\n",
      "Collecting data for afternoon playlists...\n",
      "Filtered and Sorted Playlists:\n",
      "Jazz lofi - Followers: 54028 - Tracks: 75\n",
      "afternoon vibes ✨ - Followers: 9077 - Tracks: 745\n",
      "Happy Saturday 2024 - Followers: 5235 - Tracks: 77\n",
      "Chilled Summer Afternoon Vibes - Followers: 3711 - Tracks: 195\n",
      "Lazy Sunday Afternoons  @ - Followers: 2795 - Tracks: 255\n",
      "Indie Vibes 24/7 - Followers: 1206 - Tracks: 50\n",
      "Happy Saturday Afternoon - Followers: 1024 - Tracks: 164\n",
      "Friday Afternoon Work Vibes - Followers: 253 - Tracks: 76\n",
      "Fetching details for playlist ID: 6abvvGTDj4WuFRNDMsHsw8\n",
      "Fetching details for playlist ID: 484SI8z2ImyT2U5zEq9h1E\n",
      "Fetching details for playlist ID: 2fv1ErevrE9PfKuAOmlbGd\n",
      "Fetching details for playlist ID: 25bMInOJfqU8nXEnzPSNSa\n",
      "Fetching details for playlist ID: 65ss6vLzqX0inHtxWn8jTn\n",
      "Fetching details for playlist ID: 2H1SvjFHxqbVkVOTEANB2U\n",
      "Fetching details for playlist ID: 3j4QCeqCxcLNPOV7hqgxkE\n",
      "Fetching details for playlist ID: 3JZlER9OasYBT4OUfM7QtQ\n",
      "Collecting data for evening playlists...\n",
      "Filtered and Sorted Playlists:\n",
      "The Rat Pack: Best Of The Best - Dean Martin - Frank Sinatra - Sammy Davis Jr. - Crooner - Evening - Followers: 86776 - Tracks: 61\n",
      "Jazz House - Followers: 55309 - Tracks: 200\n",
      "cozy autumn evenings,gilmore girls vibes🍂 - Followers: 33820 - Tracks: 189\n",
      "Dark Ambient - music to escape/dream to - Followers: 19418 - Tracks: 276\n",
      "Korean Chill & soft lofi Vibes 🌱 - Followers: 17066 - Tracks: 93\n",
      "taylor swift autumn - Followers: 15337 - Tracks: 80\n",
      "Evening with Friends - Followers: 9089 - Tracks: 128\n",
      "Relaxing Evening Music - Followers: 3771 - Tracks: 115\n",
      "evening vibes 🦋 - Followers: 1960 - Tracks: 305\n",
      "Wine Bar- Evening Playlist - Followers: 1465 - Tracks: 81\n",
      "Easy evening music - Followers: 970 - Tracks: 224\n",
      "Fetching details for playlist ID: 73qRbp9X5LI2n9M0TWqdy8\n",
      "Fetching details for playlist ID: 5pcU1JB2yM2f5OO90PQyAO\n",
      "Fetching details for playlist ID: 4pyG9nZB6JxwVDynEqTz4F\n",
      "Fetching details for playlist ID: 07lYUEyTkWP3NqIa7Kzyqx\n",
      "Fetching details for playlist ID: 3S7onLVZNwtt1abGFylBuN\n",
      "Fetching details for playlist ID: 2pUNSCOOr9lVzyMIIXO1eG\n",
      "Fetching details for playlist ID: 3BC312tqYYVJrOeCPoEqG5\n",
      "Fetching details for playlist ID: 4ln4tS5ewUE2iS0XeVkKSO\n",
      "Fetching details for playlist ID: 4zBY1zQuwZaz2SDKFYOXDH\n",
      "Fetching details for playlist ID: 0SqloGVhDwNH4TTphjtHtf\n",
      "Fetching details for playlist ID: 2QdipsuxyfRDCeTtqz4L9o\n",
      "Collecting data for night playlists...\n",
      "Filtered and Sorted Playlists:\n",
      "Calming Sleep Music  - Followers: 550300 - Tracks: 277\n",
      "chill songs everyone knows 🌙 relaxing music  - Followers: 244648 - Tracks: 105\n",
      "lofi Jazz 🎷 - Followers: 243045 - Tracks: 455\n",
      "low-fi 2024 🌙 lofi chill beats to study/relax/work - Followers: 142063 - Tracks: 250\n",
      "late night chill - Followers: 141530 - Tracks: 143\n",
      "Sleep Playlist😴💤 - Followers: 126112 - Tracks: 112\n",
      "Night Vibes🌌 - Followers: 72893 - Tracks: 167\n",
      "cozy christmas night - Followers: 43426 - Tracks: 89\n",
      "ADHD Sleep Music - Followers: 36412 - Tracks: 300\n",
      "soft night music - Followers: 29328 - Tracks: 170\n",
      "LATE NIGHT VIBES🔮🔮 - Followers: 28566 - Tracks: 148\n",
      "night time playlist - Followers: 4125 - Tracks: 318\n",
      "Late Night Vibes - Followers: 3481 - Tracks: 276\n",
      "late night vibes 🔥 - Followers: 863 - Tracks: 54\n",
      "night vibes - Followers: 855 - Tracks: 35\n",
      "Night/- - Followers: 397 - Tracks: 209\n",
      "NIGHT 🪩 - Followers: 345 - Tracks: 244\n",
      "night playlist - Followers: 199 - Tracks: 215\n",
      "Night night music - Followers: 68 - Tracks: 58\n",
      "Fetching details for playlist ID: 6X7wz4cCUBR6p68mzM7mZ4\n",
      "Warning: Found NoneType artist in the response\n",
      "Fetching details for playlist ID: 7hJfYpKLDQwmeHIPTmNS5y\n",
      "Fetching details for playlist ID: 2Al9G2jrWkwDlRFMZaw1GX\n",
      "Fetching details for playlist ID: 4ANPW38qMEYQ3Z1mVLrtmm\n",
      "Fetching details for playlist ID: 1kP7p1pYQ8SBixphVEpTWI\n",
      "Fetching details for playlist ID: 68JXTKfqFZEWO1DQRdVndh\n",
      "Fetching details for playlist ID: 3zJ8V7TdlxLvTPIBAFQyH3\n",
      "Fetching details for playlist ID: 3wzv4NR1fwtVEW6j88KO9G\n",
      "Fetching details for playlist ID: 3dHGqzM20pYEW1ZyMvcw9N\n",
      "Fetching details for playlist ID: 7vi7G3n8u48nYzCEoXwv2l\n",
      "Fetching details for playlist ID: 4pZtEu8DzMB84pR1NQOevB\n",
      "Fetching details for playlist ID: 7rIVOwKmXuSxh8Ekg7iFai\n",
      "Fetching details for playlist ID: 168HRBMqehwLtbRD15dT7v\n",
      "Fetching details for playlist ID: 1ZYC97wbc7jYWxSEMAPSSl\n",
      "Fetching details for playlist ID: 20j89kC1Eb71h2UsVBD5i6\n",
      "Fetching details for playlist ID: 43q9yY60ukwDK61fvZsZoB\n",
      "Fetching details for playlist ID: 22u7BJ9Bk0svSuobv1kzCo\n",
      "Fetching details for playlist ID: 2u3yJfxBTE8TNN6XJLBYit\n",
      "Fetching details for playlist ID: 0e7BUrGydQFnw8WSpUoBjw\n",
      "Data collection for night playlists completed.\n"
     ]
    }
   ],
   "source": [
    "for time_period in time_periods:\n",
    "    print(f\"Collecting data for {time_period} playlists...\")\n",
    "\n",
    "    time.sleep(60) # Time sleep to avoid rate limiting\n",
    "    \n",
    "    # Search playlists by time period\n",
    "    playlist_ids = search_playlists(time_period, token)\n",
    "\n",
    "    if not playlist_ids:\n",
    "        print(f\"No playlists found for {time_period}\")\n",
    "        continue\n",
    "    \n",
    "    # Initialize playlist data to store all playlist details\n",
    "    playlist_data = []\n",
    "    \n",
    "    for playlist_id in playlist_ids:\n",
    "        time.sleep(7.5) # Time sleep to avoid rate limiting\n",
    "        print(f\"Fetching details for playlist ID: {playlist_id}\")\n",
    "        \n",
    "        # Get playlist details (optional; can enrich data if needed)\n",
    "        playlist_details = get_playlist_details(playlist_id, token)\n",
    "        if not playlist_details:\n",
    "            print(f\"Details not found for playlist ID: {playlist_id}\")\n",
    "            continue\n",
    "\n",
    "        # Get playlist tracks (optional for database purposes)\n",
    "        playlist_tracks = get_playlist_tracks(playlist_id, token)\n",
    "        if not playlist_tracks:\n",
    "                print(f\"No tracks found for playlist ID: {playlist_id}\")\n",
    "                continue\n",
    "\n",
    "        # Get track genres using the playlist ID\n",
    "        track_genres = get_track_genres(playlist_id, token)\n",
    "\n",
    "        # Compile data\n",
    "        playlist_info = {\n",
    "            \"playlist_id\": playlist_id,\n",
    "            \"playlist_details\": playlist_details,\n",
    "            \"playlist_tracks\": playlist_tracks,  # For database purposes\n",
    "            \"track_genres\": track_genres,\n",
    "        }\n",
    "        playlist_data.append(playlist_info)\n",
    "\n",
    "        # Save JSON file for the playlist\n",
    "        save_json(playlist_info, f\"{time_period}_playlist_{playlist_id}\")\n",
    "\n",
    "print(f\"Data collection for {time_period} playlists completed.\")"
   ]
  }
 ],
 "metadata": {
  "kernelspec": {
   "display_name": "myenviro",
   "language": "python",
   "name": "python3"
  },
  "language_info": {
   "codemirror_mode": {
    "name": "ipython",
    "version": 3
   },
   "file_extension": ".py",
   "mimetype": "text/x-python",
   "name": "python",
   "nbconvert_exporter": "python",
   "pygments_lexer": "ipython3",
   "version": "3.12.4"
  }
 },
 "nbformat": 4,
 "nbformat_minor": 2
}
